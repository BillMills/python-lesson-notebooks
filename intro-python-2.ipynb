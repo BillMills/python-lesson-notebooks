{
 "cells": [
  {
   "cell_type": "markdown",
   "metadata": {},
   "source": [
    "# Introduction to Python: Loops and Conditions\n",
    "\n",
    "In the [previous lesson](https://github.com/BillMills/python-lesson-notebooks/blob/master/intro-python-1.ipynb), we learned about how to store information in *variables*, and store instructions in *functions* for later use. In this lesson, we'll learn the basic tools for making our programs smarter: *loops*, which allow our programs to repeat themselves many times, and *conditions*, which allow our programs to make simple decisions for themselves. First though, we'll start by learning about a new type of variable, called a *list*."
   ]
  },
  {
   "cell_type": "markdown",
   "metadata": {},
   "source": [
    "# Part 1: Lists\n",
    "\n",
    "So far, we've put strings and numbers into our variables. Another type of information we can handle in Python is called a *list*. We can create a list like so:"
   ]
  },
  {
   "cell_type": "code",
   "execution_count": 1,
   "metadata": {
    "collapsed": true
   },
   "outputs": [],
   "source": [
    "shopping = ['cheese', 'bananas', 'circuitboards']"
   ]
  },
  {
   "cell_type": "markdown",
   "metadata": {},
   "source": [
    "Key things to note:\n",
    " - we start with a variable name and an equals sign, like before.\n",
    " - the list is surrounded by `[]`\n",
    " - the elements of the list are separated by `,`\n",
    " \n",
    "Once we've created our list, we can ask for individual elements of it like so:"
   ]
  },
  {
   "cell_type": "code",
   "execution_count": 2,
   "metadata": {
    "collapsed": false
   },
   "outputs": [
    {
     "name": "stdout",
     "output_type": "stream",
     "text": [
      "cheese\n",
      "bananas\n",
      "circuitboards\n"
     ]
    }
   ],
   "source": [
    "print( shopping[0] )\n",
    "print( shopping[1] )\n",
    "print( shopping[2] )"
   ]
  },
  {
   "cell_type": "markdown",
   "metadata": {},
   "source": [
    "Notice that the first element in the list is referred to by `0`; we call these numbers the 'index' of the array element, and they always count starting at zero for the first element.\n",
    "\n",
    "If instead we want to count from the back of the array, we start with `-1` and go down from there: "
   ]
  },
  {
   "cell_type": "code",
   "execution_count": 3,
   "metadata": {
    "collapsed": false
   },
   "outputs": [
    {
     "name": "stdout",
     "output_type": "stream",
     "text": [
      "circuitboards\n",
      "bananas\n",
      "cheese\n"
     ]
    }
   ],
   "source": [
    "print( shopping[-1] )\n",
    "print( shopping[-2] )\n",
    "print( shopping[-3] )"
   ]
  },
  {
   "cell_type": "markdown",
   "metadata": {},
   "source": [
    "We can ask our array how long it is:"
   ]
  },
  {
   "cell_type": "code",
   "execution_count": 4,
   "metadata": {
    "collapsed": false
   },
   "outputs": [
    {
     "name": "stdout",
     "output_type": "stream",
     "text": [
      "3\n"
     ]
    }
   ],
   "source": [
    "print( len(shopping) )"
   ]
  },
  {
   "cell_type": "markdown",
   "metadata": {},
   "source": [
    "And we can even sort our array:"
   ]
  },
  {
   "cell_type": "code",
   "execution_count": 5,
   "metadata": {
    "collapsed": false
   },
   "outputs": [
    {
     "name": "stdout",
     "output_type": "stream",
     "text": [
      "['bananas', 'cheese', 'circuitboards']\n"
     ]
    }
   ],
   "source": [
    "sorted_shopping = sorted(shopping)\n",
    "print( sorted_shopping )"
   ]
  },
  {
   "cell_type": "markdown",
   "metadata": {},
   "source": [
    "Lists are useful when we have a whole lot of conceptually similar data, or data that has a meaningful order; if you have a sensor that takes the same reading every second, you would probably want to store that data in a list, so that you can preserve what order those measurements came in."
   ]
  },
  {
   "cell_type": "markdown",
   "metadata": {},
   "source": [
    "> ### Challenge Problem #1\n",
    "\n",
    "> Write a function that takes a list of numbers as an argument, and returns another list; this returned list should have the largest number in the original list as its first element, and the length of the original list as its second element. So, if the input list is `[5, 7, 1, 3]`, the output list should be `[7, 4]`."
   ]
  },
  {
   "cell_type": "markdown",
   "metadata": {
    "collapsed": true
   },
   "source": [
    "# Part 2: Loops\n",
    "\n",
    "Now that we understand lists, we can learn about one of the most fundamental tools in programming: the for loop. Suppose you had a list of data, and a function that you wanted to apply to each one:"
   ]
  },
  {
   "cell_type": "code",
   "execution_count": 7,
   "metadata": {
    "collapsed": false
   },
   "outputs": [
    {
     "name": "stdout",
     "output_type": "stream",
     "text": [
      "G\n",
      "A\n",
      "T\n"
     ]
    }
   ],
   "source": [
    "def getLeadingBase(read):\n",
    "    '''\n",
    "    input: a string representing a read of a genome\n",
    "    output: the leading base of the input read.\n",
    "    '''\n",
    "    \n",
    "    return read[0]\n",
    "\n",
    "myReads = ['GGATC', 'AAACC', 'TTCGT']\n",
    "\n",
    "print(getLeadingBase(myReads[0]))\n",
    "print(getLeadingBase(myReads[1]))\n",
    "print(getLeadingBase(myReads[2]))"
   ]
  },
  {
   "cell_type": "markdown",
   "metadata": {},
   "source": [
    "This works fine, but it's a bit tedious; just like last time when we got sick of cutting and pasting our temperature conversion code, it's impractical to cut and paste that print statement for everything in the list - what if there were 3 billion reads in our list, instead of only 3? We can ask Python to repeat the same block of code over and over again, only changing the element of `myReads` that we're looking at by using a for loop:"
   ]
  },
  {
   "cell_type": "code",
   "execution_count": 9,
   "metadata": {
    "collapsed": false
   },
   "outputs": [
    {
     "name": "stdout",
     "output_type": "stream",
     "text": [
      "G\n",
      "A\n",
      "T\n"
     ]
    }
   ],
   "source": [
    "for read in myReads:\n",
    "    print(getLeadingBase( read ))"
   ]
  },
  {
   "cell_type": "markdown",
   "metadata": {},
   "source": [
    "Python has run the stuff inside the for loop once for every value in the list provided after the `in` keyword. A common task is often to loop over a range of numbers; for this, Python provides the helper function `range`:"
   ]
  },
  {
   "cell_type": "code",
   "execution_count": 11,
   "metadata": {
    "collapsed": false
   },
   "outputs": [
    {
     "data": {
      "text/plain": [
       "[0, 1, 2, 3, 4, 5]"
      ]
     },
     "execution_count": 11,
     "metadata": {},
     "output_type": "execute_result"
    }
   ],
   "source": [
    "range(6)"
   ]
  },
  {
   "cell_type": "code",
   "execution_count": 12,
   "metadata": {
    "collapsed": false
   },
   "outputs": [
    {
     "data": {
      "text/plain": [
       "[2, 3]"
      ]
     },
     "execution_count": 12,
     "metadata": {},
     "output_type": "execute_result"
    }
   ],
   "source": [
    "range(2,4)"
   ]
  },
  {
   "cell_type": "markdown",
   "metadata": {},
   "source": [
    "Give `range` one number, and it returns a list counting from 0 up to but not including that number; give range two numbers, and it reutns a list counting from the first (inclusive), up to but not including the last. Another common idiom is to use a range of indices to do the same thing we did above:"
   ]
  },
  {
   "cell_type": "code",
   "execution_count": 13,
   "metadata": {
    "collapsed": false
   },
   "outputs": [
    {
     "name": "stdout",
     "output_type": "stream",
     "text": [
      "G\n",
      "A\n",
      "T\n"
     ]
    }
   ],
   "source": [
    "for i in range(len(myReads)):\n",
    "    print(getLeadingBase( myReads[i] ))"
   ]
  },
  {
   "cell_type": "markdown",
   "metadata": {},
   "source": [
    "This does the exact same thing as above, but gives us a numerical index `i`, which we could use for something else (referring to another list, doing something special every thrid item...)."
   ]
  },
  {
   "cell_type": "markdown",
   "metadata": {},
   "source": [
    "> ### Challenge Problem #2\n",
    "\n",
    "> Lists have a handy helper function `append(x)`, which adds the argument to the end of the list. So for example, if I had\n",
    "\n",
    "> ```\n",
    "myList = [1,2,3]\n",
    "myList.append(4)\n",
    "```\n",
    "\n",
    "> `myList` would now be `[1,2,3,4]`. Write a function called `addPrefix` that takes a list of strings and a prefix as an argument, and returns another list the same as the original, but with prefix added to the front of every string. So for example, \n",
    "\n",
    "> `addPrefix(['GA', 'TC', 'GC'], 'CC')` would reurn `['CCGA', 'CCTC', 'CCGC']`."
   ]
  },
  {
   "cell_type": "markdown",
   "metadata": {},
   "source": [
    "# Part 3: Conditions\n",
    "\n",
    "So far, we've learned a lot about how to get Python to repeat itself, using functions and for loops. But in real science, while we may do many similar things in an analysis, they aren't usually all completely identical; based on circumstances, we often have to make decisions and adapt to our observations. The fundamental tool for doing that in Python is the conditional statement, and it's the last tool we need before we can dive into our future lessons.\n",
    "\n",
    "Suppose we had some genetic reads, but we only wanted to consider ones that were more than 10 bases long. We could check with a condition:"
   ]
  },
  {
   "cell_type": "code",
   "execution_count": 44,
   "metadata": {
    "collapsed": false
   },
   "outputs": [
    {
     "name": "stdout",
     "output_type": "stream",
     "text": [
      "ATGTC\n",
      "ATGC\n"
     ]
    }
   ],
   "source": [
    "myReads = ['ATGTC', 'G', 'ATG', 'ATGC']\n",
    "\n",
    "for read in myReads:\n",
    "    if len(read) > 3:\n",
    "        print(read)\n"
   ]
  },
  {
   "cell_type": "markdown",
   "metadata": {},
   "source": [
    "So while we looped through the entire list, we only printed out reads that passed our condition of being longer than 10 bases. We can also add alternative conditions to check for other cases:"
   ]
  },
  {
   "cell_type": "code",
   "execution_count": 45,
   "metadata": {
    "collapsed": false
   },
   "outputs": [
    {
     "name": "stdout",
     "output_type": "stream",
     "text": [
      "ATGTC\n",
      "('ATG', 'is just barely long enough')\n",
      "ATGC\n"
     ]
    }
   ],
   "source": [
    "for read in myReads:\n",
    "    if len(read) > 3:\n",
    "        print(read)\n",
    "    elif len(read) == 3:\n",
    "        print(read, 'is just barely long enough')"
   ]
  },
  {
   "cell_type": "markdown",
   "metadata": {},
   "source": [
    "Finally, we can add a catch all statement to the end to do something with all the items that didn't satisfy any condition:"
   ]
  },
  {
   "cell_type": "code",
   "execution_count": 46,
   "metadata": {
    "collapsed": false
   },
   "outputs": [
    {
     "name": "stdout",
     "output_type": "stream",
     "text": [
      "ATGTC\n",
      "('G', 'is too short.')\n",
      "('ATG', 'is just barely long enough')\n",
      "ATGC\n"
     ]
    }
   ],
   "source": [
    "for read in myReads:\n",
    "    if len(read) > 3:\n",
    "        print(read)\n",
    "    elif len(read) == 3:\n",
    "        print(read, 'is just barely long enough')\n",
    "    else:\n",
    "        print(read, 'is too short.')"
   ]
  },
  {
   "cell_type": "markdown",
   "metadata": {},
   "source": [
    "All conditions start with an `if` statement, but the number of `elif`s afterwards is up to you - you can check as many alternate conditions as you like (including none). Similarly, a catchall `else` can do something for all the leftovers, but it isn't required.\n",
    "\n",
    "Above we saw a couple examples of making logical expressions to check in a condition; these are conditions that evaluate to True or False, like `7 < 3` (False), or `0 == 0` (True) - notice the double equals sign asks the question 'are these two things equal?'.\n",
    "\n",
    "Finally, we can combine conditions together using the words `and` and `or`:"
   ]
  },
  {
   "cell_type": "code",
   "execution_count": 47,
   "metadata": {
    "collapsed": false
   },
   "outputs": [
    {
     "name": "stdout",
     "output_type": "stream",
     "text": [
      "('ATGTC', 'didnt match any conditions.')\n",
      "('G', 'length is either less than 3 or exactly 4')\n",
      "('ATG', 'length is greater than 2 and less than 5')\n",
      "('ATGC', 'length is greater than 2 and less than 5')\n"
     ]
    }
   ],
   "source": [
    "for read in myReads:\n",
    "    if len(read) > 2 and len(read) < 5:\n",
    "        print(read, 'length is greater than 2 and less than 5')\n",
    "    elif len(read) < 3 or len(read) == 4:\n",
    "        print(read, 'length is either less than 3 or exactly 4')\n",
    "    else:\n",
    "        print(read, 'didnt match any conditions.')\n",
    "        \n",
    "    "
   ]
  },
  {
   "cell_type": "markdown",
   "metadata": {},
   "source": [
    "> ### Challenge Problem #3\n",
    "\n",
    "> Strings can be indexed the same way as lists - so if you have `myword = 'Python'`, then `myword[2]` will be `t`. Write a function `geneComplement` that takes a genome as an argument, and returns its genetic complement - ie, A is swapped with T, and G is swapped with C, so `geneComplement('GGCATT')` would return CCGTAA."
   ]
  },
  {
   "cell_type": "code",
   "execution_count": null,
   "metadata": {
    "collapsed": true
   },
   "outputs": [],
   "source": []
  }
 ],
 "metadata": {
  "kernelspec": {
   "display_name": "Python 2",
   "language": "python",
   "name": "python2"
  },
  "language_info": {
   "codemirror_mode": {
    "name": "ipython",
    "version": 2
   },
   "file_extension": ".py",
   "mimetype": "text/x-python",
   "name": "python",
   "nbconvert_exporter": "python",
   "pygments_lexer": "ipython2",
   "version": "2.7.10"
  }
 },
 "nbformat": 4,
 "nbformat_minor": 0
}
