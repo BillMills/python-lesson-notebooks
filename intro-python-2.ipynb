{
 "cells": [
  {
   "cell_type": "markdown",
   "metadata": {},
   "source": [
    "# Introduction to Python: Loops and Conditions\n",
    "\n",
    "In the [previous lesson](https://github.com/BillMills/python-lesson-notebooks/blob/master/intro-python-1.ipynb), we learned about how to store information in *variables*, and store instructions in *functions* for later use. In this lesson, we'll learn the basic tools for making our programs smarter: *loops*, which allow our programs to repeat themselves many times, and *conditions*, which allow our programs to make simple decisions for themselves. First though, we'll start by learning about a new type of variable, called a *list*."
   ]
  },
  {
   "cell_type": "markdown",
   "metadata": {},
   "source": [
    "# Part 1: Lists\n",
    "\n",
    "So far, we've put strings and numbers into our variables. Another type of information we can handle in Python is called a *list*. We can create a list like so:"
   ]
  },
  {
   "cell_type": "code",
   "execution_count": 10,
   "metadata": {
    "collapsed": true
   },
   "outputs": [],
   "source": [
    "shopping = ['cheese', 'bananas', 'circuitboards']"
   ]
  },
  {
   "cell_type": "markdown",
   "metadata": {},
   "source": [
    "Key things to note:\n",
    " - we start with a variable name and an equals sign, like before.\n",
    " - the list is surrounded by `[]`\n",
    " - the elements of the list are separated by `,`\n",
    " \n",
    "Once we've created our list, we can ask for individual elements of it like so:"
   ]
  },
  {
   "cell_type": "code",
   "execution_count": 11,
   "metadata": {
    "collapsed": false
   },
   "outputs": [
    {
     "name": "stdout",
     "output_type": "stream",
     "text": [
      "cheese\n",
      "bananas\n",
      "circuitboards\n"
     ]
    }
   ],
   "source": [
    "print( shopping[0] )\n",
    "print( shopping[1] )\n",
    "print( shopping[2] )"
   ]
  },
  {
   "cell_type": "markdown",
   "metadata": {},
   "source": [
    "Notice that the first element in the list is referred to by `0`; we call these numbers the 'index' of the array element, and they always count starting at zero for the first element.\n",
    "\n",
    "If instead we want to count from the back of the array, we start with `-1` and go down from there: "
   ]
  },
  {
   "cell_type": "code",
   "execution_count": 12,
   "metadata": {
    "collapsed": false
   },
   "outputs": [
    {
     "name": "stdout",
     "output_type": "stream",
     "text": [
      "circuitboards\n",
      "bananas\n",
      "cheese\n"
     ]
    }
   ],
   "source": [
    "print( shopping[-1] )\n",
    "print( shopping[-2] )\n",
    "print( shopping[-3] )"
   ]
  },
  {
   "cell_type": "markdown",
   "metadata": {},
   "source": [
    "We can ask our array how long it is:"
   ]
  },
  {
   "cell_type": "code",
   "execution_count": 13,
   "metadata": {
    "collapsed": false
   },
   "outputs": [
    {
     "name": "stdout",
     "output_type": "stream",
     "text": [
      "3\n"
     ]
    }
   ],
   "source": [
    "print( len(shopping) )"
   ]
  },
  {
   "cell_type": "markdown",
   "metadata": {},
   "source": [
    "And we can even sort our array:"
   ]
  },
  {
   "cell_type": "code",
   "execution_count": 14,
   "metadata": {
    "collapsed": false
   },
   "outputs": [
    {
     "name": "stdout",
     "output_type": "stream",
     "text": [
      "bananas\n",
      "cheese\n",
      "circuitboards\n"
     ]
    }
   ],
   "source": [
    "sorted_shopping = sorted(shopping)\n",
    "print( sorted_shopping[0] )\n",
    "print( sorted_shopping[1] )\n",
    "print( sorted_shopping[2] )"
   ]
  },
  {
   "cell_type": "markdown",
   "metadata": {},
   "source": [
    "Lists are useful when we have a whole lot of conceptually similar data, or data that has a meaningful order; if you have a sensor that takes the same reading every second, you would probably want to store that data in a list, so that you can preserve what order those measurements came in."
   ]
  },
  {
   "cell_type": "markdown",
   "metadata": {},
   "source": [
    "> ### Challenge Problem #1\n",
    "\n",
    "> Write a function that take a list of numbers as an argument, and returns another list; this returned list should have the largest number in the original list as its first element, and the length of the original list as its second element. So, if the input list is `[5, 7, 1, 3]`, the output list should be `[7, 4]`."
   ]
  },
  {
   "cell_type": "code",
   "execution_count": null,
   "metadata": {
    "collapsed": true
   },
   "outputs": [],
   "source": []
  }
 ],
 "metadata": {
  "kernelspec": {
   "display_name": "Python 3",
   "language": "python",
   "name": "python3"
  },
  "language_info": {
   "codemirror_mode": {
    "name": "ipython",
    "version": 3
   },
   "file_extension": ".py",
   "mimetype": "text/x-python",
   "name": "python",
   "nbconvert_exporter": "python",
   "pygments_lexer": "ipython3",
   "version": "3.4.3"
  }
 },
 "nbformat": 4,
 "nbformat_minor": 0
}
